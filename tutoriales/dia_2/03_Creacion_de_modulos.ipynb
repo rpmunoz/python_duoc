{
 "cells": [
  {
   "cell_type": "markdown",
   "metadata": {},
   "source": [
    "# Módulos\n",
    "\n",
    "**Autor:** Roberto Muñoz <br />\n",
    "**E-mail:** <rmunoz@metricarts.com> <br />\n",
    "**Github:** <https://github.com/rpmunoz> <br />\n",
    "\n",
    "\n",
    "En el caso de escribir programa más o menos largo en Python, es conveniente usar un editor de texto como sublime o un IDE como Spyder para grabar los códigos en un archivo con sufijo `.py`. Por ejemplo, si queremos usar una definición de una función en múltiples proyectos sería conveniente guardarlo en un archivo de python e importatla posteriormente.\n",
    "\n",
    "Para soportar esto, Python tiene una manera de poner definiciones en un archivo y usarlos en un script o en una instancia interactiva del intérprete. Tal archivo es llamado módulo; las definiciones de un módulo pueden ser importadas a otros módulos o al módulo principal (la colección de variables a las que tenés acceso en un script ejecutado en el nivel superior y en el modo calculadora).\n",
    "\n",
    "Un módulo es un archivo que conteniene definiciones y declaraciones de Python. El nombre del archivo es el nombre del módulo con el sufijo `.py` agregado. Dentro de un módulo, el nombre del mismo (como una cadena de caractéres) está disponible en el valor de la variable global __name__."
   ]
  },
  {
   "cell_type": "markdown",
   "metadata": {},
   "source": [
    "## 1. Creación de módulos\n",
    "\n",
    "Usemos Spyder para crear un modulo de python que contendrá la definición de la función que permite crear la serie de Fibonacci."
   ]
  },
  {
   "cell_type": "code",
   "execution_count": null,
   "metadata": {},
   "outputs": [],
   "source": [
    "# módulo de números Fibonacci\n",
    "\n",
    "def fib1(n):    # escribe la serie Fibonacci hasta n\n",
    "    a, b = 0, 1\n",
    "    while b < n:\n",
    "        print(b, end=' ')\n",
    "        a, b = b, a+b\n",
    "    print()\n",
    "\n",
    "def fib2(n):   # devuelve la serie Fibonacci hasta n\n",
    "    resultado = []\n",
    "    a, b = 0, 1\n",
    "    while b < n:\n",
    "        resultado.append(b)\n",
    "        a, b = b, a+b\n",
    "    return resultado"
   ]
  },
  {
   "cell_type": "code",
   "execution_count": null,
   "metadata": {},
   "outputs": [],
   "source": [
    "import fibo"
   ]
  },
  {
   "cell_type": "code",
   "execution_count": null,
   "metadata": {},
   "outputs": [],
   "source": [
    "help(fibo)"
   ]
  },
  {
   "cell_type": "markdown",
   "metadata": {},
   "source": [
    "La función nativa `dir()` se usa para encontrar qué nombres define un módulo. Devuelve una lista ordenada de cadenas:"
   ]
  },
  {
   "cell_type": "code",
   "execution_count": null,
   "metadata": {},
   "outputs": [],
   "source": [
    "dir(fibo)"
   ]
  },
  {
   "cell_type": "code",
   "execution_count": null,
   "metadata": {},
   "outputs": [],
   "source": [
    "fibo.fib1(100)"
   ]
  },
  {
   "cell_type": "code",
   "execution_count": null,
   "metadata": {},
   "outputs": [],
   "source": [
    "x=fibo.fib2(1000)\n",
    "print(x)"
   ]
  },
  {
   "cell_type": "markdown",
   "metadata": {},
   "source": [
    "## 2. Ejecución de módulos como scripts\n",
    "\n",
    "En algunos casos es conveniente podar ejecutar los módulos de Python como si fuesen scripts. En este caso, no gustaría ejecutar el siguiente commando en el Anaconda prompt\n",
    "\n",
    "    python fibonacci.py <argumentos>\n",
    "    \n",
    "El código en el módulo será ejecutado tal como si lo hubieses importado, pero con __name__ con el valor de \"__main__\".\n",
    "\n",
    "Para lograr esta funcionalidad, debemos agregar un par de líneas al final del archivo .py\n",
    "\n",
    "```python\n",
    "\n",
    "if __name__ == \"__main__\":\n",
    "    import sys\n",
    "    fib1(int(sys.argv[1]))\n",
    "```"
   ]
  },
  {
   "cell_type": "code",
   "execution_count": null,
   "metadata": {},
   "outputs": [],
   "source": [
    "import fibonacci\n",
    "help(fibonacci)"
   ]
  },
  {
   "cell_type": "markdown",
   "metadata": {},
   "source": [
    "Abran la consola de `Anaconda prompt` o un terminal, y ejecuten la siguiente instrucción\n",
    "\n",
    "    python fibonacci.py 100"
   ]
  },
  {
   "cell_type": "markdown",
   "metadata": {},
   "source": [
    "---\n",
    "\n",
    "# Ejercicios\n",
    "\n",
    "Realice los siguientes ejercicios. En caso de tener dudas, puede apoyarse con sus compañeros, preguntarle al profesor y hacer búsquedas en internet.\n",
    "\n",
    "1. Cree un módulo que se llame perro.py y que contenga la definición de la clase Perro que vimos en el tutotial **01_Sobrecarga_de_operadores**. Luego ejecute la expresión `import perro` desde una celda del Jupyter notebook y cree dos objetos de la clase Perro que tengan diferentes valores de sus atributos.<br><br>\n",
    "\n",
    "2. Cree un script de Python llamado crear_fibonacci.py que reciba múltiples argumentos y que imprima en pantalla la serie de Fibonacci para cada uno de estos argumentos. Use como base lo visto al comienzo de este notebook. Una vez creado este script, lámelo desde `Anaconda prompt` con lo siguientes 3 argumentos\n",
    "\n",
    "```python\n",
    "python crear_fibonacci.py 50 100 100\n",
    "```\n"
   ]
  },
  {
   "cell_type": "code",
   "execution_count": null,
   "metadata": {},
   "outputs": [],
   "source": []
  }
 ],
 "metadata": {
  "kernelspec": {
   "display_name": "Python 3",
   "language": "python",
   "name": "python3"
  },
  "language_info": {
   "codemirror_mode": {
    "name": "ipython",
    "version": 3
   },
   "file_extension": ".py",
   "mimetype": "text/x-python",
   "name": "python",
   "nbconvert_exporter": "python",
   "pygments_lexer": "ipython3",
   "version": "3.6.3"
  }
 },
 "nbformat": 4,
 "nbformat_minor": 2
}
