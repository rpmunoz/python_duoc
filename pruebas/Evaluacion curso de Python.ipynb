{
 "cells": [
  {
   "cell_type": "markdown",
   "metadata": {},
   "source": [
    "# Evaluación curso de Python DUOC UC\n",
    "\n",
    "Fecha: 20-12-2017<br>\n",
    "\n",
    "Profesores:\n",
    "    - Roberto Muñoz\n",
    "    - Marco Ramirez\n",
    "\n",
    "El presente notebook contiene la evaluación final del curso de capacitación de Python dictado por la empresa MetricArts a los docentes de la Institución de educación superior DUOC UC. La prueba puede hacerse de manera individual o en grupos de máximo dos integrantes.\n",
    "\n",
    "Una vez finalizada la prueba, envíela al correo de Roberto Muñoz\n",
    "\n",
    "**E-mail:** <rmunoz@metricarts.com> <br />"
   ]
  },
  {
   "cell_type": "markdown",
   "metadata": {
    "collapsed": true
   },
   "source": [
    "Ingrese los nombres de los integrantes de su grupo de trabajo en la siguiente celda\n",
    "\n",
    "**Integrante 1** = \"\"\n",
    "\n",
    "**Integrante 2** = \"\""
   ]
  },
  {
   "cell_type": "code",
   "execution_count": 9,
   "metadata": {},
   "outputs": [],
   "source": [
    "import math\n",
    "import string\n",
    "import random\n",
    "import numpy as np\n",
    "import pandas as pd"
   ]
  },
  {
   "cell_type": "markdown",
   "metadata": {},
   "source": [
    "## Ejercicio 1\n",
    "\n",
    "1. Dados los siguientes dos strings, escriba un código que imprima el largo de ambos y que imprima en pantalla el string más largo.<br><br>\n",
    "\n",
    "2. Escriba un código que permita concantenar ambos strings y que un incluya un salto de línea entre ambas. Guarde este resultado en una variable e imprímalo en pantalla.<br><br>\n",
    "\n",
    "3. Escriba un código que permita reemplazar todos los espacios simples por espacios dobles."
   ]
  },
  {
   "cell_type": "code",
   "execution_count": 14,
   "metadata": {},
   "outputs": [],
   "source": [
    "linea1=\"Me gustas cuando callas porque estás como ausente,\"\n",
    "linea2=\"y me oyes desde lejos, y mi voz no te toca.\""
   ]
  },
  {
   "cell_type": "code",
   "execution_count": null,
   "metadata": {},
   "outputs": [],
   "source": []
  },
  {
   "cell_type": "markdown",
   "metadata": {},
   "source": [
    "## Ejercicio 2\n",
    "\n",
    "1. Escriba una función de Python llamada `interseccion_listas` que reciba dos listas y que retorne una nueva lista que contenga los elementos comunes a ambas, sin repetir ninguno (intersección de conjuntos). La lista que retorne la función debe contener solamente los números únicos.\n",
    "\n",
    "    Use las listas lista1 y lista2 como input de la función `interseccion_listas` e imprima el resultado.<br><br>\n",
    "    \n",
    "2. Escriba una función de Python llamada `union_listas` que reciba dos listas y devuelva los elementos que pertenecen a una o a otra, pero sin repetir ninguno (unión de conjuntos). La lista que retorne la función debe contener solamente los números únicos.\n",
    "\n",
    "    Use las listas lista1 y lista2 como input de la función `union_listas` e imprima el resultado."
   ]
  },
  {
   "cell_type": "code",
   "execution_count": 3,
   "metadata": {},
   "outputs": [
    {
     "name": "stdout",
     "output_type": "stream",
     "text": [
      "Lista 1:  [18, 27, 37, 28, 15, 28, 48, 13, 54, 27, 24, 21, 25, 14, 32, 55, 38, 19, 53, 15, 26, 15, 30, 59, 17, 37, 19, 30, 57, 20, 14, 24, 50, 59, 30, 17, 48, 37, 15, 33, 18, 54, 48, 37, 45, 43, 54, 21, 20, 40, 14, 14, 44, 43, 46, 37, 25, 16, 50, 23, 36, 40, 11, 32, 40, 10, 48, 21, 30, 36, 33, 46, 44, 10, 25, 51, 17, 14, 55, 17, 12, 20, 55, 26, 21, 42, 54, 10, 50, 45, 13, 40, 17, 58, 30, 46, 48, 41, 37, 49]\n",
      "Lista 2:  [47, 68, 64, 37, 60, 48, 51, 63, 43, 71, 67, 40, 63, 33, 24, 71, 54, 53, 36, 69, 39, 74, 51, 26, 26, 53, 24, 50, 34, 59, 70, 32, 33, 19, 23, 62, 41, 31, 17, 26, 37, 34, 51, 55, 69, 50, 50, 69, 28, 28, 68, 34, 30, 40, 26, 30, 32, 27, 71, 29, 52, 22, 18, 54, 48, 57, 56, 27, 67, 63, 19, 23, 60, 23, 57, 40, 33, 18, 63, 33, 65, 71, 24, 34, 51, 62, 39, 58, 43, 47, 20, 74, 54, 17, 37, 36, 21, 35, 43, 57, 50, 60, 54, 20, 38, 74, 25, 15, 53, 55, 37, 45, 26, 46, 40, 71, 68, 35, 63, 30, 59, 59, 72, 44, 70, 25, 64, 44, 27, 28, 19, 27, 68, 49, 26, 37, 35, 66, 26, 23, 48, 55, 47, 53, 57, 58, 53, 59, 67, 69, 71, 53, 34, 50, 67, 18, 56, 24, 19, 33, 67, 55, 45, 48, 39, 35, 28, 72, 36, 65, 73, 15, 33, 52, 67, 62, 32, 68, 31, 74, 32, 37, 41, 30, 43, 33, 43, 72, 37, 32, 27, 43, 41, 27, 34, 68, 30, 15, 68, 40]\n"
     ]
    }
   ],
   "source": [
    "lista1=list(np.array(10+np.random.random(100)*50, dtype=np.int))\n",
    "lista2=list(np.array(15+np.random.random(200)*60, dtype=np.int))\n",
    "\n",
    "print(\"Lista 1: \", lista1)\n",
    "print(\"Lista 2: \", lista2)"
   ]
  },
  {
   "cell_type": "code",
   "execution_count": null,
   "metadata": {},
   "outputs": [],
   "source": []
  },
  {
   "cell_type": "markdown",
   "metadata": {},
   "source": [
    "## Ejercicio 3\n",
    "\n",
    "Escriba una función de Python que reciba una lista de strings (primer parámetro) y una letra (segundo parámetro), y que retorne una lista de todos los nombres que empiezan con la letra ingresada como parámetro.\n",
    "\n",
    "La función debe verificar que el primer parámetroc corresponda a un string y que el segundo sea una string de largo 1."
   ]
  },
  {
   "cell_type": "code",
   "execution_count": 13,
   "metadata": {},
   "outputs": [
    {
     "name": "stdout",
     "output_type": "stream",
     "text": [
      "G\n",
      "['rosa maria', 'francisco javier', 'maria teresa', 'marta', 'pedro', 'miguel', 'roberto', 'andres', 'pablo', 'teresa', 'alejandro', 'angel', 'enrique', 'elena', 'mario', 'ivan', 'javier', 'jaime', 'raquel', 'maria pilar', 'concepcion', 'ramon', 'paula', 'maria carmen', 'alba', 'maria mar', 'juana', 'cristina', 'andrea', 'francisco', 'silvia', 'rosario', 'oscar', 'sara', 'isabel', 'juan manuel', 'angela', 'lucia', 'monica', 'juan carlos', 'montserrat', 'miguel angel', 'manuel', 'jesus', 'joaquin', 'ruben', 'juan jose', 'alberto', 'maria angeles', 'jose luis', 'santiago', 'david', 'maria jose', 'maria isabel', 'francisca', 'laura', 'jose manuel', 'rocio', 'sergio', 'alicia', 'josefa', 'nuria', 'maria dolores', 'diego', 'vicente', 'maria jesus', 'julia', 'francisco jose', 'raul', 'juan antonio', 'juan', 'fernando', 'jose antonio', 'ana', 'mercedes', 'luis', 'victor', 'rafael', 'jose maria', 'pilar', 'maria luisa', 'jorge', 'antonio', 'adrian', 'maria', 'rosa', 'ana maria', 'beatriz', 'manuela', 'irene', 'eduardo', 'carmen', 'patricia', 'encarnacion', 'dolores', 'alvaro', 'daniel', 'carlos', 'jose', 'antonia']\n"
     ]
    }
   ],
   "source": [
    "letra=random.choice(string.ascii_letters)\n",
    "nombres=['rosa maria','francisco javier','maria teresa','marta','pedro','miguel','roberto','andres','pablo','teresa','alejandro','angel','enrique','elena','mario','ivan','javier','jaime','raquel','maria pilar','concepcion','ramon','paula','maria carmen','alba','maria mar','juana','cristina','andrea','francisco','silvia','rosario','oscar','sara','isabel','juan manuel','angela','lucia','monica','juan carlos','montserrat','miguel angel','manuel','jesus','joaquin','ruben','juan jose','alberto','maria angeles','jose luis','santiago','david','maria jose','maria isabel','francisca','laura','jose manuel','rocio','sergio','alicia','josefa','nuria','maria dolores','diego','vicente','maria jesus','julia','francisco jose','raul','juan antonio','juan','fernando','jose antonio','ana','mercedes','luis','victor','rafael','jose maria','pilar','maria luisa','jorge','antonio','adrian','maria','rosa','ana maria','beatriz','manuela','irene','eduardo','carmen','patricia','encarnacion','dolores','alvaro','daniel','carlos','jose','antonia']\n",
    "\n",
    "print(letra)\n",
    "print(nombres)"
   ]
  },
  {
   "cell_type": "code",
   "execution_count": null,
   "metadata": {},
   "outputs": [],
   "source": []
  },
  {
   "cell_type": "markdown",
   "metadata": {},
   "source": [
    "## Ejercicio 4\n",
    "\n",
    "1. Dado el siguiente arreglo `data1`, determine los indices que no son ceros del arreglo. Almacene este resultado en un arreglo `data2`.<br><br>\n",
    "2. Cree un nuevo arreglo llamado `data3` que contenga la raíz cuadrada de los valores en `data2`.<br><br>\n",
    "3. Cree un nuevo arreglo llamado `data4` que contenga el arreglo `data3` ordenado de mayor a menor."
   ]
  },
  {
   "cell_type": "code",
   "execution_count": 16,
   "metadata": {},
   "outputs": [],
   "source": [
    "data1=np.array([1,2,4,2,4,0,1,0,0,0,12,4,5,6,7,0])"
   ]
  },
  {
   "cell_type": "code",
   "execution_count": null,
   "metadata": {},
   "outputs": [],
   "source": []
  },
  {
   "cell_type": "markdown",
   "metadata": {},
   "source": [
    "## Ejercicio 5\n",
    "\n",
    "1. Cree una matriz llamada `A` que contenga valores al azar con forma 3x4x3. Determine los indices de los valores mínimos y máximos de la matriz anterior, e impímalos en pantalla.<br><br>\n",
    "2. Cree una nueva matriz llamada `B`que corresponda a la multiplicación entre la matriz anterior y el valor de Pi. Cree una matriz que corresponda al calculo del seno() de los valores de la matriz `B`.<br><br>"
   ]
  },
  {
   "cell_type": "code",
   "execution_count": null,
   "metadata": {},
   "outputs": [],
   "source": []
  },
  {
   "cell_type": "markdown",
   "metadata": {},
   "source": [
    "## Ejercicio 6\n",
    "\n",
    "Para este ejercicio usaremos una base de datos de vuelos áreos publicada por el sitio web [Openflights](https://openflights.org/data.html). La base de datos contiene una tabla de los aeropuertos en el mundo (**`aeropuertos.csv`**), una tabla de las aerolíneas en el mundo (**`aerolineas.csv`**) y una tabla de las rutas de vuelos comerciales (**`rutas.csv`**).\n",
    "\n",
    "1. Imprima en pantalla las primeras líneas de los dataframes aeropuertos, aerolineas y rutas.<br><br>\n",
    "\n",
    "2. Cree un dataframe llamado rutas_Chile que contenga los registros del dataframe rutas cuyo Pais de origen sea Chile.<br><br>\n",
    "\n",
    "3. Use el dataframe anterior y determine el número de vuelos que parten desde Chile.\n",
    "\n",
    "4. Haga un gráfico de puntos (kind='scatter') usando el dataframe aeropuertos y use en el eje X el campo Longitud y en el eje Y el campo Latitud. Use un símbolo y tamaño de símbolo adecuadao que permita visualizar el resultado."
   ]
  },
  {
   "cell_type": "code",
   "execution_count": 18,
   "metadata": {},
   "outputs": [],
   "source": [
    "aeropuertos_file='data/aeropuertos.csv'\n",
    "aerolineas_file='data/aerolineas.csv'\n",
    "rutas_file='data/rutas.csv'\n",
    "\n",
    "aeropuertos=pd.read_csv(aeropuertos_file)\n",
    "aerolineas=pd.read_csv(aerolineas_file)\n",
    "rutas=pd.read_csv(rutas_file)"
   ]
  },
  {
   "cell_type": "code",
   "execution_count": null,
   "metadata": {},
   "outputs": [],
   "source": []
  }
 ],
 "metadata": {
  "kernelspec": {
   "display_name": "Python 3",
   "language": "python",
   "name": "python3"
  },
  "language_info": {
   "codemirror_mode": {
    "name": "ipython",
    "version": 3
   },
   "file_extension": ".py",
   "mimetype": "text/x-python",
   "name": "python",
   "nbconvert_exporter": "python",
   "pygments_lexer": "ipython3",
   "version": "3.6.3"
  }
 },
 "nbformat": 4,
 "nbformat_minor": 1
}
